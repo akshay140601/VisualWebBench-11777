{
 "cells": [
  {
   "cell_type": "code",
   "execution_count": 20,
   "metadata": {},
   "outputs": [],
   "source": [
    "import torch\n",
    "from config import *\n",
    "from PIL import Image\n",
    "from utils.utils import *\n",
    "import torch.nn.functional as F\n",
    "from trol.load_trol import load_trol\n",
    "from torchvision.transforms.functional import pil_to_tensor\n",
    "\n",
    "import os\n",
    "import json\n",
    "import math\n",
    "import glob\n",
    "from config import *\n",
    "import pandas as pd\n",
    "import pyarrow.parquet as pq \n",
    "from eval.utils import *\n",
    "from torch.utils.data import Dataset\n",
    "\n",
    "from io import BytesIO\n",
    "\n",
    "visualweb_files = glob.glob(os.path.join(\"Evaluation_Dataset_Path\", VISUALWEBBENCH))\n",
    "pre_visualweb = [pq.read_pandas(os.path.join(DATASET_ROOT, vwf)).to_pandas() for vwf in visualweb_files]"
   ]
  },
  {
   "cell_type": "code",
   "execution_count": null,
   "metadata": {},
   "outputs": [],
   "source": [
    "from loader.create_eval_dataset import CreateEvalDataset\n",
    "\n",
    "dataset_creator = CreateEvalDataset()"
   ]
  },
  {
   "cell_type": "code",
   "execution_count": 21,
   "metadata": {},
   "outputs": [
    {
     "name": "stdout",
     "output_type": "stream",
     "text": [
      "[            id task_type               website  \\\n",
      "0      webqa_1     webqa       a-z-animals.com   \n",
      "1      webqa_2     webqa       a-z-animals.com   \n",
      "2      webqa_3     webqa       a-z-animals.com   \n",
      "3      webqa_4     webqa       a-z-animals.com   \n",
      "4      webqa_5     webqa         allpoetry.com   \n",
      "..         ...       ...                   ...   \n",
      "309  webqa_310     webqa    www.whitepages.com   \n",
      "310  webqa_311     webqa     www.wikipedia.org   \n",
      "311  webqa_312     webqa     www.wikipedia.org   \n",
      "312  webqa_313     webqa  www.worldhistory.org   \n",
      "313  webqa_314     webqa  www.wunderground.com   \n",
      "\n",
      "                                                 image    image_size  \\\n",
      "0    {'bytes': b'\\x89PNG\\r\\n\\x1a\\n\\x00\\x00\\x00\\rIHD...  [1280, 1144]   \n",
      "1    {'bytes': b'\\x89PNG\\r\\n\\x1a\\n\\x00\\x00\\x00\\rIHD...  [1280, 1144]   \n",
      "2    {'bytes': b'\\x89PNG\\r\\n\\x1a\\n\\x00\\x00\\x00\\rIHD...  [1280, 1144]   \n",
      "3    {'bytes': b'\\x89PNG\\r\\n\\x1a\\n\\x00\\x00\\x00\\rIHD...  [1280, 1144]   \n",
      "4    {'bytes': b'\\x89PNG\\r\\n\\x1a\\n\\x00\\x00\\x00\\rIHD...  [1280, 1144]   \n",
      "..                                                 ...           ...   \n",
      "309  {'bytes': b'\\x89PNG\\r\\n\\x1a\\n\\x00\\x00\\x00\\rIHD...  [1280, 1144]   \n",
      "310  {'bytes': b'\\x89PNG\\r\\n\\x1a\\n\\x00\\x00\\x00\\rIHD...  [1280, 1144]   \n",
      "311  {'bytes': b'\\x89PNG\\r\\n\\x1a\\n\\x00\\x00\\x00\\rIHD...  [1280, 1144]   \n",
      "312  {'bytes': b'\\x89PNG\\r\\n\\x1a\\n\\x00\\x00\\x00\\rIHD...  [1280, 1144]   \n",
      "313  {'bytes': b'\\x89PNG\\r\\n\\x1a\\n\\x00\\x00\\x00\\rIHD...  [1280, 1144]   \n",
      "\n",
      "                                              question  \\\n",
      "0    What type of content is featured in the 'Anima...   \n",
      "1    What is the topic of the latest product review...   \n",
      "2    What additional platform is mentioned for foll...   \n",
      "3    What is the subject of the trending article on...   \n",
      "4    What is the title of the poem featured in the ...   \n",
      "..                                                 ...   \n",
      "309  What are the three main search functionalities...   \n",
      "310  What is the name of the Wikimedia project that...   \n",
      "311               What type of content does Wikibooks?   \n",
      "312  Which section on the website would you visit t...   \n",
      "313        Which city has the highest temperature now?   \n",
      "\n",
      "                                              answer  \n",
      "0                                          [Sawfish]  \n",
      "1               [The 7 Best Pet Products at Walmart]  \n",
      "2                                  [YouTube Channel]  \n",
      "3                         [Killer Whale and Dolphin]  \n",
      "4                     [kneeling at the gate of hell]  \n",
      "..                                               ...  \n",
      "309  [People Search, Reverse Phone, Reverse Address]  \n",
      "310                                       [Wikidata]  \n",
      "311                                 [Free textbooks]  \n",
      "312                                  [Media Library]  \n",
      "313                              [Houston,, Houston]  \n",
      "\n",
      "[314 rows x 7 columns]]\n"
     ]
    }
   ],
   "source": [
    "print(pre_visualweb)"
   ]
  },
  {
   "cell_type": "code",
   "execution_count": 27,
   "metadata": {},
   "outputs": [],
   "source": [
    "image_data = pre_visualweb[0][\"image\"].iloc[0]\n",
    "\n",
    "# Extract the bytes from the dictionary (assuming the bytes are stored under the 'bytes' key)\n",
    "image_bytes = image_data['bytes']"
   ]
  },
  {
   "cell_type": "code",
   "execution_count": 28,
   "metadata": {},
   "outputs": [],
   "source": [
    "# Convert the byte data into an image using BytesIO\n",
    "image = Image.open(BytesIO(image_bytes))"
   ]
  },
  {
   "cell_type": "code",
   "execution_count": 29,
   "metadata": {},
   "outputs": [
    {
     "name": "stderr",
     "output_type": "stream",
     "text": [
      "Error: no \"view\" rule for type \"image/png\" passed its test case\n",
      "       (for more information, add \"--debug=1\" on the command line)\n"
     ]
    }
   ],
   "source": [
    "image.show()"
   ]
  },
  {
   "cell_type": "code",
   "execution_count": null,
   "metadata": {},
   "outputs": [],
   "source": []
  }
 ],
 "metadata": {
  "kernelspec": {
   "display_name": "trol",
   "language": "python",
   "name": "python3"
  },
  "language_info": {
   "codemirror_mode": {
    "name": "ipython",
    "version": 3
   },
   "file_extension": ".py",
   "mimetype": "text/x-python",
   "name": "python",
   "nbconvert_exporter": "python",
   "pygments_lexer": "ipython3",
   "version": "3.11.10"
  }
 },
 "nbformat": 4,
 "nbformat_minor": 2
}
